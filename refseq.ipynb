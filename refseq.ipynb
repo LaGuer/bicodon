{
 "cells": [
  {
   "cell_type": "code",
   "execution_count": 11,
   "metadata": {
    "collapsed": false
   },
   "outputs": [
    {
     "data": {
      "text/html": [
       "<div>\n",
       "<style scoped>\n",
       "    .dataframe tbody tr th:only-of-type {\n",
       "        vertical-align: middle;\n",
       "    }\n",
       "\n",
       "    .dataframe tbody tr th {\n",
       "        vertical-align: top;\n",
       "    }\n",
       "\n",
       "    .dataframe thead th {\n",
       "        text-align: right;\n",
       "    }\n",
       "</style>\n",
       "<table border=\"1\" class=\"dataframe\">\n",
       "  <thead>\n",
       "    <tr style=\"text-align: right;\">\n",
       "      <th></th>\n",
       "      <th>acc</th>\n",
       "      <th>ftp</th>\n",
       "      <th>organism_name</th>\n",
       "      <th>genetic_code</th>\n",
       "      <th>in</th>\n",
       "      <th>out</th>\n",
       "    </tr>\n",
       "  </thead>\n",
       "  <tbody>\n",
       "    <tr>\n",
       "      <th>0</th>\n",
       "      <td>GCF_000010525.1</td>\n",
       "      <td>ftp://ftp.ncbi.nlm.nih.gov/genomes/all/GCF/000...</td>\n",
       "      <td>Azorhizobium caulinodans ORS 571</td>\n",
       "      <td>11</td>\n",
       "      <td>ftp://ftp.ncbi.nlm.nih.gov/genomes/all/GCF/000...</td>\n",
       "      <td>/home/mitsuki/bicodon/data/cds/GCF_000010525.1...</td>\n",
       "    </tr>\n",
       "    <tr>\n",
       "      <th>1</th>\n",
       "      <td>GCF_000007365.1</td>\n",
       "      <td>ftp://ftp.ncbi.nlm.nih.gov/genomes/all/GCF/000...</td>\n",
       "      <td>Buchnera aphidicola str. Sg (Schizaphis graminum)</td>\n",
       "      <td>11</td>\n",
       "      <td>ftp://ftp.ncbi.nlm.nih.gov/genomes/all/GCF/000...</td>\n",
       "      <td>/home/mitsuki/bicodon/data/cds/GCF_000007365.1...</td>\n",
       "    </tr>\n",
       "    <tr>\n",
       "      <th>2</th>\n",
       "      <td>GCF_000007725.1</td>\n",
       "      <td>ftp://ftp.ncbi.nlm.nih.gov/genomes/all/GCF/000...</td>\n",
       "      <td>Buchnera aphidicola str. Bp (Baizongia pistaciae)</td>\n",
       "      <td>11</td>\n",
       "      <td>ftp://ftp.ncbi.nlm.nih.gov/genomes/all/GCF/000...</td>\n",
       "      <td>/home/mitsuki/bicodon/data/cds/GCF_000007725.1...</td>\n",
       "    </tr>\n",
       "    <tr>\n",
       "      <th>3</th>\n",
       "      <td>GCF_000009605.1</td>\n",
       "      <td>ftp://ftp.ncbi.nlm.nih.gov/genomes/all/GCF/000...</td>\n",
       "      <td>Buchnera aphidicola str. APS (Acyrthosiphon pi...</td>\n",
       "      <td>11</td>\n",
       "      <td>ftp://ftp.ncbi.nlm.nih.gov/genomes/all/GCF/000...</td>\n",
       "      <td>/home/mitsuki/bicodon/data/cds/GCF_000009605.1...</td>\n",
       "    </tr>\n",
       "    <tr>\n",
       "      <th>4</th>\n",
       "      <td>GCF_000090965.1</td>\n",
       "      <td>ftp://ftp.ncbi.nlm.nih.gov/genomes/all/GCF/000...</td>\n",
       "      <td>Buchnera aphidicola BCc</td>\n",
       "      <td>11</td>\n",
       "      <td>ftp://ftp.ncbi.nlm.nih.gov/genomes/all/GCF/000...</td>\n",
       "      <td>/home/mitsuki/bicodon/data/cds/GCF_000090965.1...</td>\n",
       "    </tr>\n",
       "  </tbody>\n",
       "</table>\n",
       "</div>"
      ],
      "text/plain": [
       "               acc                                                ftp  \\\n",
       "0  GCF_000010525.1  ftp://ftp.ncbi.nlm.nih.gov/genomes/all/GCF/000...   \n",
       "1  GCF_000007365.1  ftp://ftp.ncbi.nlm.nih.gov/genomes/all/GCF/000...   \n",
       "2  GCF_000007725.1  ftp://ftp.ncbi.nlm.nih.gov/genomes/all/GCF/000...   \n",
       "3  GCF_000009605.1  ftp://ftp.ncbi.nlm.nih.gov/genomes/all/GCF/000...   \n",
       "4  GCF_000090965.1  ftp://ftp.ncbi.nlm.nih.gov/genomes/all/GCF/000...   \n",
       "\n",
       "                                       organism_name  genetic_code  \\\n",
       "0                   Azorhizobium caulinodans ORS 571            11   \n",
       "1  Buchnera aphidicola str. Sg (Schizaphis graminum)            11   \n",
       "2  Buchnera aphidicola str. Bp (Baizongia pistaciae)            11   \n",
       "3  Buchnera aphidicola str. APS (Acyrthosiphon pi...            11   \n",
       "4                            Buchnera aphidicola BCc            11   \n",
       "\n",
       "                                                  in  \\\n",
       "0  ftp://ftp.ncbi.nlm.nih.gov/genomes/all/GCF/000...   \n",
       "1  ftp://ftp.ncbi.nlm.nih.gov/genomes/all/GCF/000...   \n",
       "2  ftp://ftp.ncbi.nlm.nih.gov/genomes/all/GCF/000...   \n",
       "3  ftp://ftp.ncbi.nlm.nih.gov/genomes/all/GCF/000...   \n",
       "4  ftp://ftp.ncbi.nlm.nih.gov/genomes/all/GCF/000...   \n",
       "\n",
       "                                                 out  \n",
       "0  /home/mitsuki/bicodon/data/cds/GCF_000010525.1...  \n",
       "1  /home/mitsuki/bicodon/data/cds/GCF_000007365.1...  \n",
       "2  /home/mitsuki/bicodon/data/cds/GCF_000007725.1...  \n",
       "3  /home/mitsuki/bicodon/data/cds/GCF_000009605.1...  \n",
       "4  /home/mitsuki/bicodon/data/cds/GCF_000090965.1...  "
      ]
     },
     "execution_count": 11,
     "metadata": {},
     "output_type": "execute_result"
    }
   ],
   "source": [
    "ref_fp = \"./data/refseq.csv\"\n",
    "ref_df = pd.read_csv(ref_fp)\n",
    "ref_df[\"in\"] = ref_df[\"ftp\"].map(lambda x:\"{}/{}_cds_from_genomic.fna.gz\".format(x, x.split('/')[-1]))\n",
    "ref_df[\"out\"] = ref_df[\"acc\"].map(lambda x:\"/home/mitsuki/bicodon/data/cds/{}.fna\".format(x))\n",
    "ref_df.head()"
   ]
  },
  {
   "cell_type": "code",
   "execution_count": 14,
   "metadata": {
    "collapsed": true
   },
   "outputs": [],
   "source": [
    "ref_df[[\"in\", \"out\"]].to_csv(\"./arg/wget.lst\", index=False, header=None)"
   ]
  },
  {
   "cell_type": "code",
   "execution_count": 10,
   "metadata": {
    "collapsed": false
   },
   "outputs": [
    {
     "data": {
      "text/plain": [
       "'/home/mitsuki/bicodon/data/cds/GCF_000010525.1.fna'"
      ]
     },
     "execution_count": 10,
     "metadata": {},
     "output_type": "execute_result"
    }
   ],
   "source": [
    "x = ref_df[\"acc\"].iloc[0]\n",
    "\"/home/mitsuki/bicodon/data/cds/{}.fna\".format(x)"
   ]
  },
  {
   "cell_type": "markdown",
   "metadata": {},
   "source": [
    "## 対象の生物種をRefSeqから取得する（02/05）\n",
    "* genetic codeも"
   ]
  },
  {
   "cell_type": "code",
   "execution_count": 1,
   "metadata": {
    "collapsed": false
   },
   "outputs": [
    {
     "name": "stdout",
     "output_type": "stream",
     "text": [
      "(144374, 22)\n"
     ]
    },
    {
     "name": "stderr",
     "output_type": "stream",
     "text": [
      "/home/mitsuki/.pyenv/versions/anaconda3-4.3.1/lib/python3.6/site-packages/IPython/core/interactiveshell.py:2717: DtypeWarning: Columns (20) have mixed types. Specify dtype option on import or set low_memory=False.\n",
      "  interactivity=interactivity, compiler=compiler, result=result)\n"
     ]
    },
    {
     "data": {
      "text/html": [
       "<div>\n",
       "<style scoped>\n",
       "    .dataframe tbody tr th:only-of-type {\n",
       "        vertical-align: middle;\n",
       "    }\n",
       "\n",
       "    .dataframe tbody tr th {\n",
       "        vertical-align: top;\n",
       "    }\n",
       "\n",
       "    .dataframe thead th {\n",
       "        text-align: right;\n",
       "    }\n",
       "</style>\n",
       "<table border=\"1\" class=\"dataframe\">\n",
       "  <thead>\n",
       "    <tr style=\"text-align: right;\">\n",
       "      <th></th>\n",
       "      <th># assembly_accession</th>\n",
       "      <th>bioproject</th>\n",
       "      <th>biosample</th>\n",
       "      <th>wgs_master</th>\n",
       "      <th>refseq_category</th>\n",
       "      <th>taxid</th>\n",
       "      <th>species_taxid</th>\n",
       "      <th>organism_name</th>\n",
       "      <th>infraspecific_name</th>\n",
       "      <th>isolate</th>\n",
       "      <th>...</th>\n",
       "      <th>release_type</th>\n",
       "      <th>genome_rep</th>\n",
       "      <th>seq_rel_date</th>\n",
       "      <th>asm_name</th>\n",
       "      <th>submitter</th>\n",
       "      <th>gbrs_paired_asm</th>\n",
       "      <th>paired_asm_comp</th>\n",
       "      <th>ftp_path</th>\n",
       "      <th>excluded_from_refseq</th>\n",
       "      <th>relation_to_type_material</th>\n",
       "    </tr>\n",
       "  </thead>\n",
       "  <tbody>\n",
       "    <tr>\n",
       "      <th>0</th>\n",
       "      <td>GCF_000010525.1</td>\n",
       "      <td>PRJNA224116</td>\n",
       "      <td>SAMD00060925</td>\n",
       "      <td>NaN</td>\n",
       "      <td>representative genome</td>\n",
       "      <td>438753</td>\n",
       "      <td>7</td>\n",
       "      <td>Azorhizobium caulinodans ORS 571</td>\n",
       "      <td>strain=ORS 571</td>\n",
       "      <td>NaN</td>\n",
       "      <td>...</td>\n",
       "      <td>Major</td>\n",
       "      <td>Full</td>\n",
       "      <td>2007/10/16</td>\n",
       "      <td>ASM1052v1</td>\n",
       "      <td>University of Tokyo</td>\n",
       "      <td>GCA_000010525.1</td>\n",
       "      <td>identical</td>\n",
       "      <td>ftp://ftp.ncbi.nlm.nih.gov/genomes/all/GCF/000...</td>\n",
       "      <td>NaN</td>\n",
       "      <td>assembly from type material</td>\n",
       "    </tr>\n",
       "    <tr>\n",
       "      <th>1</th>\n",
       "      <td>GCF_000007365.1</td>\n",
       "      <td>PRJNA224116</td>\n",
       "      <td>SAMN02604269</td>\n",
       "      <td>NaN</td>\n",
       "      <td>representative genome</td>\n",
       "      <td>198804</td>\n",
       "      <td>9</td>\n",
       "      <td>Buchnera aphidicola str. Sg (Schizaphis graminum)</td>\n",
       "      <td>strain=Sg</td>\n",
       "      <td>NaN</td>\n",
       "      <td>...</td>\n",
       "      <td>Major</td>\n",
       "      <td>Full</td>\n",
       "      <td>2002/07/02</td>\n",
       "      <td>ASM736v1</td>\n",
       "      <td>Uppsala Univ.</td>\n",
       "      <td>GCA_000007365.1</td>\n",
       "      <td>identical</td>\n",
       "      <td>ftp://ftp.ncbi.nlm.nih.gov/genomes/all/GCF/000...</td>\n",
       "      <td>NaN</td>\n",
       "      <td>NaN</td>\n",
       "    </tr>\n",
       "    <tr>\n",
       "      <th>2</th>\n",
       "      <td>GCF_000007725.1</td>\n",
       "      <td>PRJNA224116</td>\n",
       "      <td>SAMN02604289</td>\n",
       "      <td>NaN</td>\n",
       "      <td>representative genome</td>\n",
       "      <td>224915</td>\n",
       "      <td>9</td>\n",
       "      <td>Buchnera aphidicola str. Bp (Baizongia pistaciae)</td>\n",
       "      <td>strain=Bp (Baizongia pistaciae)</td>\n",
       "      <td>NaN</td>\n",
       "      <td>...</td>\n",
       "      <td>Major</td>\n",
       "      <td>Full</td>\n",
       "      <td>2003/01/29</td>\n",
       "      <td>ASM772v1</td>\n",
       "      <td>Valencia Univ.</td>\n",
       "      <td>GCA_000007725.1</td>\n",
       "      <td>identical</td>\n",
       "      <td>ftp://ftp.ncbi.nlm.nih.gov/genomes/all/GCF/000...</td>\n",
       "      <td>NaN</td>\n",
       "      <td>NaN</td>\n",
       "    </tr>\n",
       "    <tr>\n",
       "      <th>3</th>\n",
       "      <td>GCF_000009605.1</td>\n",
       "      <td>PRJNA57805</td>\n",
       "      <td>SAMD00061095</td>\n",
       "      <td>NaN</td>\n",
       "      <td>reference genome</td>\n",
       "      <td>107806</td>\n",
       "      <td>9</td>\n",
       "      <td>Buchnera aphidicola str. APS (Acyrthosiphon pi...</td>\n",
       "      <td>strain=APS</td>\n",
       "      <td>Tokyo1998</td>\n",
       "      <td>...</td>\n",
       "      <td>Major</td>\n",
       "      <td>Full</td>\n",
       "      <td>2004/05/11</td>\n",
       "      <td>ASM960v1</td>\n",
       "      <td>Rikken GSC</td>\n",
       "      <td>GCA_000009605.1</td>\n",
       "      <td>identical</td>\n",
       "      <td>ftp://ftp.ncbi.nlm.nih.gov/genomes/all/GCF/000...</td>\n",
       "      <td>NaN</td>\n",
       "      <td>NaN</td>\n",
       "    </tr>\n",
       "    <tr>\n",
       "      <th>4</th>\n",
       "      <td>GCF_000021065.1</td>\n",
       "      <td>PRJNA224116</td>\n",
       "      <td>SAMN02604133</td>\n",
       "      <td>NaN</td>\n",
       "      <td>na</td>\n",
       "      <td>561501</td>\n",
       "      <td>9</td>\n",
       "      <td>Buchnera aphidicola str. Tuc7 (Acyrthosiphon p...</td>\n",
       "      <td>strain=Tuc7</td>\n",
       "      <td>NaN</td>\n",
       "      <td>...</td>\n",
       "      <td>Major</td>\n",
       "      <td>Full</td>\n",
       "      <td>2009/01/06</td>\n",
       "      <td>ASM2106v1</td>\n",
       "      <td>University of Arizona</td>\n",
       "      <td>GCA_000021065.1</td>\n",
       "      <td>identical</td>\n",
       "      <td>ftp://ftp.ncbi.nlm.nih.gov/genomes/all/GCF/000...</td>\n",
       "      <td>NaN</td>\n",
       "      <td>NaN</td>\n",
       "    </tr>\n",
       "  </tbody>\n",
       "</table>\n",
       "<p>5 rows × 22 columns</p>\n",
       "</div>"
      ],
      "text/plain": [
       "  # assembly_accession   bioproject     biosample wgs_master  \\\n",
       "0      GCF_000010525.1  PRJNA224116  SAMD00060925        NaN   \n",
       "1      GCF_000007365.1  PRJNA224116  SAMN02604269        NaN   \n",
       "2      GCF_000007725.1  PRJNA224116  SAMN02604289        NaN   \n",
       "3      GCF_000009605.1   PRJNA57805  SAMD00061095        NaN   \n",
       "4      GCF_000021065.1  PRJNA224116  SAMN02604133        NaN   \n",
       "\n",
       "         refseq_category   taxid  species_taxid  \\\n",
       "0  representative genome  438753              7   \n",
       "1  representative genome  198804              9   \n",
       "2  representative genome  224915              9   \n",
       "3       reference genome  107806              9   \n",
       "4                     na  561501              9   \n",
       "\n",
       "                                       organism_name  \\\n",
       "0                   Azorhizobium caulinodans ORS 571   \n",
       "1  Buchnera aphidicola str. Sg (Schizaphis graminum)   \n",
       "2  Buchnera aphidicola str. Bp (Baizongia pistaciae)   \n",
       "3  Buchnera aphidicola str. APS (Acyrthosiphon pi...   \n",
       "4  Buchnera aphidicola str. Tuc7 (Acyrthosiphon p...   \n",
       "\n",
       "                infraspecific_name    isolate             ...               \\\n",
       "0                   strain=ORS 571        NaN             ...                \n",
       "1                        strain=Sg        NaN             ...                \n",
       "2  strain=Bp (Baizongia pistaciae)        NaN             ...                \n",
       "3                       strain=APS  Tokyo1998             ...                \n",
       "4                      strain=Tuc7        NaN             ...                \n",
       "\n",
       "  release_type genome_rep seq_rel_date   asm_name              submitter  \\\n",
       "0        Major       Full   2007/10/16  ASM1052v1    University of Tokyo   \n",
       "1        Major       Full   2002/07/02   ASM736v1          Uppsala Univ.   \n",
       "2        Major       Full   2003/01/29   ASM772v1         Valencia Univ.   \n",
       "3        Major       Full   2004/05/11   ASM960v1             Rikken GSC   \n",
       "4        Major       Full   2009/01/06  ASM2106v1  University of Arizona   \n",
       "\n",
       "   gbrs_paired_asm paired_asm_comp  \\\n",
       "0  GCA_000010525.1       identical   \n",
       "1  GCA_000007365.1       identical   \n",
       "2  GCA_000007725.1       identical   \n",
       "3  GCA_000009605.1       identical   \n",
       "4  GCA_000021065.1       identical   \n",
       "\n",
       "                                            ftp_path excluded_from_refseq  \\\n",
       "0  ftp://ftp.ncbi.nlm.nih.gov/genomes/all/GCF/000...                  NaN   \n",
       "1  ftp://ftp.ncbi.nlm.nih.gov/genomes/all/GCF/000...                  NaN   \n",
       "2  ftp://ftp.ncbi.nlm.nih.gov/genomes/all/GCF/000...                  NaN   \n",
       "3  ftp://ftp.ncbi.nlm.nih.gov/genomes/all/GCF/000...                  NaN   \n",
       "4  ftp://ftp.ncbi.nlm.nih.gov/genomes/all/GCF/000...                  NaN   \n",
       "\n",
       "     relation_to_type_material  \n",
       "0  assembly from type material  \n",
       "1                          NaN  \n",
       "2                          NaN  \n",
       "3                          NaN  \n",
       "4                          NaN  \n",
       "\n",
       "[5 rows x 22 columns]"
      ]
     },
     "execution_count": 1,
     "metadata": {},
     "output_type": "execute_result"
    }
   ],
   "source": [
    "dfs = [pd.read_csv(\"./data/refseq_bacteria.txt\", skiprows=1, sep='\\t'),\n",
    "           pd.read_csv(\"./data/refseq_archaea.txt\", skiprows=1, sep='\\t')]\n",
    "assert (dfs[0].columns == dfs[1].columns).all()\n",
    "ref_df = pd.concat(dfs)\n",
    "print(ref_df.shape)\n",
    "ref_df.head()"
   ]
  },
  {
   "cell_type": "code",
   "execution_count": 2,
   "metadata": {
    "collapsed": false
   },
   "outputs": [
    {
     "name": "stdout",
     "output_type": "stream",
     "text": [
      "(2052178, 14)\n"
     ]
    },
    {
     "data": {
      "text/html": [
       "<div>\n",
       "<style scoped>\n",
       "    .dataframe tbody tr th:only-of-type {\n",
       "        vertical-align: middle;\n",
       "    }\n",
       "\n",
       "    .dataframe tbody tr th {\n",
       "        vertical-align: top;\n",
       "    }\n",
       "\n",
       "    .dataframe thead th {\n",
       "        text-align: right;\n",
       "    }\n",
       "</style>\n",
       "<table border=\"1\" class=\"dataframe\">\n",
       "  <thead>\n",
       "    <tr style=\"text-align: right;\">\n",
       "      <th></th>\n",
       "      <th>taxid</th>\n",
       "      <th>1</th>\n",
       "      <th>2</th>\n",
       "      <th>3</th>\n",
       "      <th>4</th>\n",
       "      <th>5</th>\n",
       "      <th>genetic_code</th>\n",
       "      <th>7</th>\n",
       "      <th>8</th>\n",
       "      <th>9</th>\n",
       "      <th>10</th>\n",
       "      <th>11</th>\n",
       "      <th>12</th>\n",
       "      <th>13</th>\n",
       "    </tr>\n",
       "  </thead>\n",
       "  <tbody>\n",
       "    <tr>\n",
       "      <th>0</th>\n",
       "      <td>1</td>\n",
       "      <td>1</td>\n",
       "      <td>\\tno rank\\t</td>\n",
       "      <td>\\t\\t</td>\n",
       "      <td>8</td>\n",
       "      <td>0</td>\n",
       "      <td>1</td>\n",
       "      <td>0</td>\n",
       "      <td>0</td>\n",
       "      <td>0</td>\n",
       "      <td>0</td>\n",
       "      <td>0</td>\n",
       "      <td>\\t\\t</td>\n",
       "      <td>NaN</td>\n",
       "    </tr>\n",
       "    <tr>\n",
       "      <th>1</th>\n",
       "      <td>2</td>\n",
       "      <td>131567</td>\n",
       "      <td>\\tsuperkingdom\\t</td>\n",
       "      <td>\\t\\t</td>\n",
       "      <td>0</td>\n",
       "      <td>0</td>\n",
       "      <td>11</td>\n",
       "      <td>0</td>\n",
       "      <td>0</td>\n",
       "      <td>0</td>\n",
       "      <td>0</td>\n",
       "      <td>0</td>\n",
       "      <td>\\t\\t</td>\n",
       "      <td>NaN</td>\n",
       "    </tr>\n",
       "    <tr>\n",
       "      <th>2</th>\n",
       "      <td>6</td>\n",
       "      <td>335928</td>\n",
       "      <td>\\tgenus\\t</td>\n",
       "      <td>\\t\\t</td>\n",
       "      <td>0</td>\n",
       "      <td>1</td>\n",
       "      <td>11</td>\n",
       "      <td>1</td>\n",
       "      <td>0</td>\n",
       "      <td>1</td>\n",
       "      <td>0</td>\n",
       "      <td>0</td>\n",
       "      <td>\\t\\t</td>\n",
       "      <td>NaN</td>\n",
       "    </tr>\n",
       "    <tr>\n",
       "      <th>3</th>\n",
       "      <td>7</td>\n",
       "      <td>6</td>\n",
       "      <td>\\tspecies\\t</td>\n",
       "      <td>\\tAC\\t</td>\n",
       "      <td>0</td>\n",
       "      <td>1</td>\n",
       "      <td>11</td>\n",
       "      <td>1</td>\n",
       "      <td>0</td>\n",
       "      <td>1</td>\n",
       "      <td>1</td>\n",
       "      <td>0</td>\n",
       "      <td>\\t\\t</td>\n",
       "      <td>NaN</td>\n",
       "    </tr>\n",
       "    <tr>\n",
       "      <th>4</th>\n",
       "      <td>9</td>\n",
       "      <td>32199</td>\n",
       "      <td>\\tspecies\\t</td>\n",
       "      <td>\\tBA\\t</td>\n",
       "      <td>0</td>\n",
       "      <td>1</td>\n",
       "      <td>11</td>\n",
       "      <td>1</td>\n",
       "      <td>0</td>\n",
       "      <td>1</td>\n",
       "      <td>1</td>\n",
       "      <td>0</td>\n",
       "      <td>\\t\\t</td>\n",
       "      <td>NaN</td>\n",
       "    </tr>\n",
       "  </tbody>\n",
       "</table>\n",
       "</div>"
      ],
      "text/plain": [
       "   taxid       1                 2       3  4  5  genetic_code  7  8  9  10  \\\n",
       "0      1       1       \\tno rank\\t    \\t\\t  8  0             1  0  0  0   0   \n",
       "1      2  131567  \\tsuperkingdom\\t    \\t\\t  0  0            11  0  0  0   0   \n",
       "2      6  335928         \\tgenus\\t    \\t\\t  0  1            11  1  0  1   0   \n",
       "3      7       6       \\tspecies\\t  \\tAC\\t  0  1            11  1  0  1   1   \n",
       "4      9   32199       \\tspecies\\t  \\tBA\\t  0  1            11  1  0  1   1   \n",
       "\n",
       "   11    12  13  \n",
       "0   0  \\t\\t NaN  \n",
       "1   0  \\t\\t NaN  \n",
       "2   0  \\t\\t NaN  \n",
       "3   0  \\t\\t NaN  \n",
       "4   0  \\t\\t NaN  "
      ]
     },
     "execution_count": 2,
     "metadata": {},
     "output_type": "execute_result"
    }
   ],
   "source": [
    "nodes_fp = \"./data/taxonomy/nodes.dmp\"\n",
    "nodes_df = pd.read_csv(nodes_fp, sep='|', header=None).rename(columns={0:\"taxid\", 6:\"genetic_code\"})\n",
    "print(nodes_df.shape)\n",
    "nodes_df.head()"
   ]
  },
  {
   "cell_type": "code",
   "execution_count": 3,
   "metadata": {
    "collapsed": false
   },
   "outputs": [
    {
     "data": {
      "text/plain": [
       "na                       138559\n",
       "representative genome      5695\n",
       "reference genome            120\n",
       "Name: refseq_category, dtype: int64"
      ]
     },
     "execution_count": 3,
     "metadata": {},
     "output_type": "execute_result"
    }
   ],
   "source": [
    "ref_df[\"refseq_category\"].value_counts()"
   ]
  },
  {
   "cell_type": "code",
   "execution_count": 4,
   "metadata": {
    "collapsed": false
   },
   "outputs": [
    {
     "name": "stdout",
     "output_type": "stream",
     "text": [
      "5815\n"
     ]
    },
    {
     "data": {
      "text/html": [
       "<div>\n",
       "<style scoped>\n",
       "    .dataframe tbody tr th:only-of-type {\n",
       "        vertical-align: middle;\n",
       "    }\n",
       "\n",
       "    .dataframe tbody tr th {\n",
       "        vertical-align: top;\n",
       "    }\n",
       "\n",
       "    .dataframe thead th {\n",
       "        text-align: right;\n",
       "    }\n",
       "</style>\n",
       "<table border=\"1\" class=\"dataframe\">\n",
       "  <thead>\n",
       "    <tr style=\"text-align: right;\">\n",
       "      <th></th>\n",
       "      <th>acc</th>\n",
       "      <th>ftp</th>\n",
       "      <th>organism_name</th>\n",
       "      <th>genetic_code</th>\n",
       "    </tr>\n",
       "  </thead>\n",
       "  <tbody>\n",
       "    <tr>\n",
       "      <th>0</th>\n",
       "      <td>GCF_000010525.1</td>\n",
       "      <td>ftp://ftp.ncbi.nlm.nih.gov/genomes/all/GCF/000...</td>\n",
       "      <td>Azorhizobium caulinodans ORS 571</td>\n",
       "      <td>11</td>\n",
       "    </tr>\n",
       "    <tr>\n",
       "      <th>1</th>\n",
       "      <td>GCF_000007365.1</td>\n",
       "      <td>ftp://ftp.ncbi.nlm.nih.gov/genomes/all/GCF/000...</td>\n",
       "      <td>Buchnera aphidicola str. Sg (Schizaphis graminum)</td>\n",
       "      <td>11</td>\n",
       "    </tr>\n",
       "    <tr>\n",
       "      <th>2</th>\n",
       "      <td>GCF_000007725.1</td>\n",
       "      <td>ftp://ftp.ncbi.nlm.nih.gov/genomes/all/GCF/000...</td>\n",
       "      <td>Buchnera aphidicola str. Bp (Baizongia pistaciae)</td>\n",
       "      <td>11</td>\n",
       "    </tr>\n",
       "    <tr>\n",
       "      <th>3</th>\n",
       "      <td>GCF_000009605.1</td>\n",
       "      <td>ftp://ftp.ncbi.nlm.nih.gov/genomes/all/GCF/000...</td>\n",
       "      <td>Buchnera aphidicola str. APS (Acyrthosiphon pi...</td>\n",
       "      <td>11</td>\n",
       "    </tr>\n",
       "    <tr>\n",
       "      <th>4</th>\n",
       "      <td>GCF_000090965.1</td>\n",
       "      <td>ftp://ftp.ncbi.nlm.nih.gov/genomes/all/GCF/000...</td>\n",
       "      <td>Buchnera aphidicola BCc</td>\n",
       "      <td>11</td>\n",
       "    </tr>\n",
       "  </tbody>\n",
       "</table>\n",
       "</div>"
      ],
      "text/plain": [
       "               acc                                                ftp  \\\n",
       "0  GCF_000010525.1  ftp://ftp.ncbi.nlm.nih.gov/genomes/all/GCF/000...   \n",
       "1  GCF_000007365.1  ftp://ftp.ncbi.nlm.nih.gov/genomes/all/GCF/000...   \n",
       "2  GCF_000007725.1  ftp://ftp.ncbi.nlm.nih.gov/genomes/all/GCF/000...   \n",
       "3  GCF_000009605.1  ftp://ftp.ncbi.nlm.nih.gov/genomes/all/GCF/000...   \n",
       "4  GCF_000090965.1  ftp://ftp.ncbi.nlm.nih.gov/genomes/all/GCF/000...   \n",
       "\n",
       "                                       organism_name  genetic_code  \n",
       "0                   Azorhizobium caulinodans ORS 571            11  \n",
       "1  Buchnera aphidicola str. Sg (Schizaphis graminum)            11  \n",
       "2  Buchnera aphidicola str. Bp (Baizongia pistaciae)            11  \n",
       "3  Buchnera aphidicola str. APS (Acyrthosiphon pi...            11  \n",
       "4                            Buchnera aphidicola BCc            11  "
      ]
     },
     "execution_count": 4,
     "metadata": {},
     "output_type": "execute_result"
    }
   ],
   "source": [
    "out_df = ref_df[ref_df[\"refseq_category\"].isin([\"representative genome\", \"reference genome\"])]\n",
    "out_df = pd.merge(out_df, nodes_df[[\"taxid\", \"genetic_code\"]], on=\"taxid\", how=\"left\")\n",
    "out_df = out_df.rename(columns={\"# assembly_accession\":\"acc\", \"ftp_path\":\"ftp\"})\n",
    "out_df = out_df[[\"acc\", \"ftp\", \"organism_name\", \"genetic_code\"]]\n",
    "print(len(out_df))\n",
    "out_df.head()"
   ]
  },
  {
   "cell_type": "code",
   "execution_count": 5,
   "metadata": {
    "collapsed": false
   },
   "outputs": [
    {
     "data": {
      "text/plain": [
       "11    5710\n",
       "4      105\n",
       "Name: genetic_code, dtype: int64"
      ]
     },
     "execution_count": 5,
     "metadata": {},
     "output_type": "execute_result"
    }
   ],
   "source": [
    "out_df[\"genetic_code\"].value_counts()"
   ]
  },
  {
   "cell_type": "code",
   "execution_count": 6,
   "metadata": {
    "collapsed": false
   },
   "outputs": [],
   "source": [
    "out_df.to_csv(\"./data/refseq.csv\", index=False)"
   ]
  },
  {
   "cell_type": "code",
   "execution_count": null,
   "metadata": {
    "collapsed": true
   },
   "outputs": [],
   "source": [
    "out_df.to_csv()"
   ]
  },
  {
   "cell_type": "code",
   "execution_count": null,
   "metadata": {
    "collapsed": false
   },
   "outputs": [],
   "source": [
    "out_df[\"ftp_path\"].iloc[0]"
   ]
  },
  {
   "cell_type": "code",
   "execution_count": null,
   "metadata": {
    "collapsed": true
   },
   "outputs": [],
   "source": [
    "out_df = "
   ]
  },
  {
   "cell_type": "code",
   "execution_count": null,
   "metadata": {
    "collapsed": true
   },
   "outputs": [],
   "source": []
  }
 ],
 "metadata": {
  "kernelspec": {
   "display_name": "Python 3",
   "language": "python",
   "name": "python3"
  },
  "language_info": {
   "codemirror_mode": {
    "name": "ipython",
    "version": 3
   },
   "file_extension": ".py",
   "mimetype": "text/x-python",
   "name": "python",
   "nbconvert_exporter": "python",
   "pygments_lexer": "ipython3",
   "version": "3.6.0"
  }
 },
 "nbformat": 4,
 "nbformat_minor": 2
}
